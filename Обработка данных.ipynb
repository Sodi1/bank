{
 "cells": [
  {
   "cell_type": "code",
   "execution_count": 1,
   "id": "7c8748ed",
   "metadata": {},
   "outputs": [],
   "source": [
    "import numpy as np\n",
    "import pandas as pd\n",
    "import pandasql as ps\n",
    "from matplotlib import pyplot as plt\n",
    "from scipy import stats\n",
    "from sklearn import preprocessing, svm\n",
    "import statsmodels.tsa.api as smt\n",
    "import statsmodels.api as sm\n",
    "import statsmodels.api as sm\n",
    "from statsmodels.iolib.table import SimpleTable\n",
    "from sklearn.metrics import r2_score"
   ]
  },
  {
   "cell_type": "code",
   "execution_count": 33,
   "id": "35cd2ec6",
   "metadata": {},
   "outputs": [
    {
     "name": "stdout",
     "output_type": "stream",
     "text": [
      "/home/jupyter/mlmodel\n"
     ]
    }
   ],
   "source": [
    "cd mlmodel/"
   ]
  },
  {
   "cell_type": "code",
   "execution_count": 36,
   "id": "f2c7de2e",
   "metadata": {},
   "outputs": [],
   "source": [
    "train_data = pd.read_csv('test1.csv', delimiter='\\t',parse_dates=['DateObserve'])"
   ]
  },
  {
   "cell_type": "code",
   "execution_count": null,
   "id": "90eff5fc",
   "metadata": {},
   "outputs": [],
   "source": [
    "train_data['DateObserve']=pd.to_datetime(train_data['DateObserve']).apply(lambda x: x.strftime('%Y-%m-%d'))"
   ]
  },
  {
   "cell_type": "code",
   "execution_count": null,
   "id": "e04b44ef",
   "metadata": {},
   "outputs": [],
   "source": [
    "train_data.head()"
   ]
  },
  {
   "cell_type": "code",
   "execution_count": null,
   "id": "eca290cd",
   "metadata": {},
   "outputs": [],
   "source": [
    "count_nan=train_data.groupby(['WebPriceId','StockStatus']).count().reset_index()"
   ]
  },
  {
   "cell_type": "markdown",
   "id": "0e36f010",
   "metadata": {},
   "source": [
    "##### Фильтруем id по количеству записей (более 150)"
   ]
  },
  {
   "cell_type": "code",
   "execution_count": null,
   "id": "ae906da2",
   "metadata": {},
   "outputs": [],
   "source": [
    "count_filtered = train_data.groupby(['WebPriceId'])['WebPriceId'].count()"
   ]
  },
  {
   "cell_type": "code",
   "execution_count": null,
   "id": "fc612a18",
   "metadata": {},
   "outputs": [],
   "source": [
    "count_filtered.head()"
   ]
  },
  {
   "cell_type": "code",
   "execution_count": null,
   "id": "5107ae74",
   "metadata": {},
   "outputs": [],
   "source": [
    "filtered_ids = pd.DataFrame(count_filtered[count_filtered > 110].index)"
   ]
  },
  {
   "cell_type": "code",
   "execution_count": null,
   "id": "2edc422b",
   "metadata": {},
   "outputs": [],
   "source": [
    "filtered_ids.head()"
   ]
  },
  {
   "cell_type": "code",
   "execution_count": null,
   "id": "12ae186d",
   "metadata": {},
   "outputs": [],
   "source": [
    "train_data_1 = filtered_ids.merge(train_data, on='WebPriceId',how='inner')\n",
    "train_data_1.head(15)"
   ]
  },
  {
   "cell_type": "code",
   "execution_count": null,
   "id": "aa077e71",
   "metadata": {
    "scrolled": true
   },
   "outputs": [],
   "source": [
    "print(f'Отфильтрованное количество записей = {len(train_data_1)}')"
   ]
  },
  {
   "cell_type": "code",
   "execution_count": null,
   "id": "106797ec",
   "metadata": {},
   "outputs": [],
   "source": [
    "train_data_1.fillna(method='ffill', inplace=True)"
   ]
  },
  {
   "cell_type": "code",
   "execution_count": null,
   "id": "9d81f1fb",
   "metadata": {},
   "outputs": [],
   "source": [
    "train_data_1=train_data_1.drop_duplicates()"
   ]
  },
  {
   "cell_type": "code",
   "execution_count": null,
   "id": "27894217",
   "metadata": {},
   "outputs": [],
   "source": [
    "train_data_1.count()"
   ]
  },
  {
   "cell_type": "code",
   "execution_count": null,
   "id": "8b5f57ea",
   "metadata": {},
   "outputs": [],
   "source": [
    "train_data_1=train_data_1[['WebPriceId','DateObserve','CurrentPrice']]\n"
   ]
  },
  {
   "cell_type": "code",
   "execution_count": null,
   "id": "b6805d02",
   "metadata": {},
   "outputs": [],
   "source": [
    "train_data_1.head()"
   ]
  },
  {
   "cell_type": "markdown",
   "id": "dace2f97",
   "metadata": {},
   "source": [
    "#### Делаем ряд стационарным"
   ]
  },
  {
   "cell_type": "markdown",
   "id": "c4d35eb7",
   "metadata": {},
   "source": [
    "### Рассчет ипц"
   ]
  },
  {
   "cell_type": "code",
   "execution_count": null,
   "id": "eac1aad4",
   "metadata": {},
   "outputs": [],
   "source": [
    "get_mode = lambda x: x.value_counts(dropna=False).index[0]"
   ]
  },
  {
   "cell_type": "code",
   "execution_count": null,
   "id": "6669ad24",
   "metadata": {},
   "outputs": [],
   "source": [
    "train_data_2=train_data_1.groupby(['WebPriceId','DateObserve']).agg({'CurrentPrice': ['mean']}).reset_index()"
   ]
  },
  {
   "cell_type": "code",
   "execution_count": null,
   "id": "7c2c3b02",
   "metadata": {},
   "outputs": [],
   "source": [
    "train_data_2['DateObserve']=pd.to_datetime(train_data_2['DateObserve']).apply(lambda x: x.strftime('%Y-%m'))"
   ]
  },
  {
   "cell_type": "code",
   "execution_count": null,
   "id": "304295b0",
   "metadata": {},
   "outputs": [],
   "source": [
    "train_data_2.head()"
   ]
  },
  {
   "cell_type": "code",
   "execution_count": null,
   "id": "84f7e8f5",
   "metadata": {},
   "outputs": [],
   "source": [
    "train_data_2.columns=['WebPriceId','DateObserve','CurrentPrice']"
   ]
  },
  {
   "cell_type": "code",
   "execution_count": null,
   "id": "ffcb90f6",
   "metadata": {},
   "outputs": [],
   "source": [
    "train_data_2=train_data_2.groupby(['WebPriceId','DateObserve']).agg({'CurrentPrice': ['mean']}).reset_index()"
   ]
  },
  {
   "cell_type": "code",
   "execution_count": null,
   "id": "a9d31860",
   "metadata": {},
   "outputs": [],
   "source": [
    "train_data_2.columns=['Id','Date','Price']"
   ]
  },
  {
   "cell_type": "code",
   "execution_count": null,
   "id": "b528dd2d",
   "metadata": {},
   "outputs": [],
   "source": [
    "train_data_2.head(10000)"
   ]
  },
  {
   "cell_type": "code",
   "execution_count": null,
   "id": "cfcfc6e5",
   "metadata": {},
   "outputs": [],
   "source": [
    "train_data_2['Price']=train_data_2['Price'].astype(int)"
   ]
  },
  {
   "cell_type": "code",
   "execution_count": null,
   "id": "05b9cf80",
   "metadata": {},
   "outputs": [],
   "source": [
    "itog = train_data_2.describe()\n",
    "train_data_2.hist()\n",
    "itog"
   ]
  },
  {
   "cell_type": "code",
   "execution_count": null,
   "id": "f73b43c4",
   "metadata": {},
   "outputs": [],
   "source": [
    "uni_data = train_data_2['Price']\n",
    "uni_data.index = train_data_2['Date']\n",
    "row =  [u'JB', u'p-value', u'skew', u'kurtosis']\n",
    "jb_test = sm.stats.stattools.jarque_bera(uni_data)\n",
    "a = np.vstack([jb_test])\n",
    "itog = SimpleTable(a, row)\n",
    "print(itog)"
   ]
  },
  {
   "cell_type": "code",
   "execution_count": null,
   "id": "222780f4",
   "metadata": {},
   "outputs": [],
   "source": [
    "test = sm.tsa.adfuller(uni_data)\n",
    "print('adf: ', test[0]) \n",
    "print('p-value: ', test[1])\n",
    "print('Critical values: ', test[4])\n",
    "if test[0]> test[4]['5%']: \n",
    "    print('есть единичные корни, ряд не стационарен')\n",
    "else:\n",
    "    print('единичных корней нет, ряд стационарен')"
   ]
  },
  {
   "cell_type": "code",
   "execution_count": null,
   "id": "8b4cb7fb",
   "metadata": {},
   "outputs": [],
   "source": [
    "train_data_2.to_csv('train_data.csv',sep=';',encoding='utf-8')"
   ]
  },
  {
   "cell_type": "code",
   "execution_count": null,
   "id": "be51c613",
   "metadata": {},
   "outputs": [],
   "source": [
    "uni_data = np.log(train_data_2['Price'])\n",
    "uni_data.index = train_data_2['Date']\n",
    "uni_data.plot(subplots=True);"
   ]
  },
  {
   "cell_type": "code",
   "execution_count": null,
   "id": "8da5075c",
   "metadata": {},
   "outputs": [],
   "source": []
  }
 ],
 "metadata": {
  "kernelspec": {
   "display_name": "Python 3 (ipykernel)",
   "language": "python",
   "name": "python3"
  },
  "language_info": {
   "codemirror_mode": {
    "name": "ipython",
    "version": 3
   },
   "file_extension": ".py",
   "mimetype": "text/x-python",
   "name": "python",
   "nbconvert_exporter": "python",
   "pygments_lexer": "ipython3",
   "version": "3.8.10"
  }
 },
 "nbformat": 4,
 "nbformat_minor": 5
}
